{
 "cells": [
  {
   "cell_type": "markdown",
   "metadata": {},
   "source": [
    "## Data Analysis \n",
    "\n",
    "Analysis of the diabetes dataset exemplifies:"
   ]
  },
  {
   "cell_type": "code",
   "execution_count": 1,
   "metadata": {},
   "outputs": [],
   "source": [
    "import pandas as pd\n",
    "import numpy as np\n",
    "\n",
    "import matplotlib.pyplot as plt\n",
    "import seaborn as sns\n",
    "\n",
    "from scipy import stats"
   ]
  },
  {
   "cell_type": "code",
   "execution_count": 2,
   "metadata": {},
   "outputs": [],
   "source": [
    "# Load `data/raw/Diabetes/diabetes_data_upload.csv` as a pandas dataframe\n",
    "\n",
    "df = pd.read_csv('C:/Users/deema/Desktop/Weightloss-Drugs/Weightloss-Drugs-and-Their-Impact-on-Diabetes/data/raw/Diabetes/diabetes_012_health_indicators_BRFSS2015.csv')"
   ]
  },
  {
   "cell_type": "code",
   "execution_count": 3,
   "metadata": {},
   "outputs": [
    {
     "name": "stdout",
     "output_type": "stream",
     "text": [
      "(253680, 22)\n"
     ]
    }
   ],
   "source": [
    "print(df.shape)"
   ]
  },
  {
   "cell_type": "code",
   "execution_count": 4,
   "metadata": {},
   "outputs": [],
   "source": [
    "#Create a dataframe pivot table where \"BMI\" is your column, \"Age\" is your index, and \"Gender\" is your value (this value is arbitrary)\n",
    "# use the len function as the \"aggfunc\" parameter.\n",
    "\n",
    "\n",
    "Nu_1_pivot_table = df.pivot_table(index='Age', columns='BMI', values='Sex', aggfunc=len, fill_value=0)\n"
   ]
  },
  {
   "cell_type": "code",
   "execution_count": 5,
   "metadata": {},
   "outputs": [
    {
     "name": "stdout",
     "output_type": "stream",
     "text": [
      "BMI   12.0  13.0  14.0  15.0  16.0  17.0  18.0  19.0  20.0  21.0  ...  86.0  \\\n",
      "Age                                                               ...         \n",
      "1.0      0     0     2     2    13    50   110   234   360   423  ...     0   \n",
      "2.0      0     1     1     2    12    38    87   187   300   446  ...     1   \n",
      "3.0      0     1     1     4    13    24    92   205   386   499  ...     0   \n",
      "4.0      0     2     2     5    12    26   106   240   397   612  ...     0   \n",
      "5.0      0     1     1     5    22    35    86   209   403   665  ...     0   \n",
      "6.0      1     2     3     7    12    50   101   272   469   740  ...     0   \n",
      "7.0      1     2     0    13    27    59   159   342   578   934  ...     0   \n",
      "8.0      0     1     5    13    32    87   201   400   685  1058  ...     0   \n",
      "9.0      2     3     2    13    41    89   187   456   702  1079  ...     0   \n",
      "10.0     0     4     4    16    47    94   199   426   614  1033  ...     0   \n",
      "11.0     1     3     5    14    37    65   142   326   466   808  ...     0   \n",
      "12.0     0     0     8    15    30    69   131   233   353   652  ...     0   \n",
      "13.0     1     1     7    23    50    90   202   438   614   906  ...     0   \n",
      "\n",
      "BMI   87.0  88.0  89.0  90.0  91.0  92.0  95.0  96.0  98.0  \n",
      "Age                                                         \n",
      "1.0      1     0     2     0     0     2     0     0     0  \n",
      "2.0      2     0     1     0     0     3     0     0     0  \n",
      "3.0      9     1     4     0     0     2     2     0     1  \n",
      "4.0      1     0     1     0     0     2     0     0     0  \n",
      "5.0      7     1     3     0     0     1     0     0     0  \n",
      "6.0      5     0     4     0     0     3     2     1     0  \n",
      "7.0      8     0     1     0     0     1     4     0     0  \n",
      "8.0      9     0     2     0     0     6     3     0     1  \n",
      "9.0     10     0     3     0     0     3     1     0     0  \n",
      "10.0     4     0     3     0     1     4     0     0     3  \n",
      "11.0     2     0     4     0     0     2     0     0     1  \n",
      "12.0     1     0     0     1     0     1     0     0     0  \n",
      "13.0     2     0     0     0     0     2     0     0     1  \n",
      "\n",
      "[13 rows x 84 columns]\n"
     ]
    }
   ],
   "source": [
    "#Display this pivot table\n",
    "\n",
    "print(Nu_1_pivot_table)\n"
   ]
  },
  {
   "cell_type": "code",
   "execution_count": 9,
   "metadata": {},
   "outputs": [
    {
     "data": {
      "text/plain": [
       "BMI\n",
       "12.0     9.0\n",
       "13.0    10.0\n",
       "14.0    12.0\n",
       "15.0    13.0\n",
       "16.0    13.0\n",
       "        ... \n",
       "91.0    10.0\n",
       "92.0     8.0\n",
       "95.0     7.0\n",
       "96.0     6.0\n",
       "98.0    10.0\n",
       "Length: 84, dtype: float64"
      ]
     },
     "execution_count": 9,
     "metadata": {},
     "output_type": "execute_result"
    }
   ],
   "source": [
    "#Using the \"idmax\" method, get the index with the maximum value for each column\n",
    "\n",
    "Nu_1_pivot_table.idxmax()\n",
    "\n"
   ]
  },
  {
   "cell_type": "code",
   "execution_count": 21,
   "metadata": {},
   "outputs": [
    {
     "name": "stdout",
     "output_type": "stream",
     "text": [
      "T-statistic: nan\n",
      "P-value: nan\n"
     ]
    }
   ],
   "source": [
    "import scipy.stats as stats\n",
    "\n",
    "Gender_Women = [0.54]  # replace '?' with your data\n",
    "Gender_Men = [0.34]  # replace '?' with your data\n",
    "\n",
    "#Perform Test\n",
    "t_statistic, p_value = stats.ttest_ind(0.54, 0.34)\n",
    "\n",
    "print(f'T-statistic: {t_statistic}')\n",
    "print(f'P-value: {p_value}')"
   ]
  },
  {
   "cell_type": "markdown",
   "metadata": {},
   "source": [
    "## Data Analysis II\n",
    "\n",
    "The data shows that BMI, Age and Sex are all relevant factors in the discussion of diabetes and weight loss as a whole. \n",
    "\n",
    "There is definitely room for additional analysis of these issues. My objective was to present the discussion and provide some information that can be used in evaluations moving forward.\n",
    "\n",
    "In some of the studies I read, there was definitely a correlation between several of the comorbid factors discussed and the positive weight loss that has been obtained by those subject participants whom were in the studies for several of the weight loss drugs discussed here, wegovy and zepbound. With an average lowering of BMI between 10% - 30% or more.  This is very significant.\n",
    "\n",
    "In light of the sale of these weight loss injectable drugs the forecast for the next years in well over 15 Million dollars projected growth to the pharmaceutical industry.\n",
    "The current weight loss drugs have already met and exceed predictions here in the USA. Globally, there are other weight loss drugs being manufactured, yet at this time I was not able to view that sale data. The impact of these drugs has been significant in the fight against diabetes and it will continue to aid in reduction of this disease."
   ]
  }
 ],
 "metadata": {
  "kernelspec": {
   "display_name": "phase1",
   "language": "python",
   "name": "python3"
  },
  "language_info": {
   "codemirror_mode": {
    "name": "ipython",
    "version": 3
   },
   "file_extension": ".py",
   "mimetype": "text/x-python",
   "name": "python",
   "nbconvert_exporter": "python",
   "pygments_lexer": "ipython3",
   "version": "3.11.5"
  }
 },
 "nbformat": 4,
 "nbformat_minor": 2
}
