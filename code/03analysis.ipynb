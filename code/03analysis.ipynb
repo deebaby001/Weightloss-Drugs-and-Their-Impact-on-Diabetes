{
 "cells": [
  {
   "cell_type": "markdown",
   "metadata": {},
   "source": [
    "## Data Analysis I\n",
    "\n",
    "Analysis of the diabetes dataset exemplifies:"
   ]
  },
  {
   "cell_type": "code",
   "execution_count": 1,
   "metadata": {},
   "outputs": [],
   "source": [
    "import pandas as pd\n",
    "import numpy as np\n",
    "\n",
    "import matplotlib.pyplot as plt\n",
    "import seaborn as sns\n",
    "\n",
    "from scipy import stats"
   ]
  },
  {
   "cell_type": "code",
   "execution_count": 8,
   "metadata": {},
   "outputs": [],
   "source": [
    "# Load `data/raw/Diabetes/diabetes_data_upload.csv` as a pandas dataframe\n",
    "\n",
    "df = pd.read_csv('C:/Users/deema/Desktop/Weightloss-Drugs/Weightloss-Drugs-and-Their-Impact-on-Diabetes/data/raw/Diabetes/diabetes_012_health_indicators_BRFSS2015.csv')"
   ]
  },
  {
   "cell_type": "code",
   "execution_count": 3,
   "metadata": {},
   "outputs": [
    {
     "name": "stdout",
     "output_type": "stream",
     "text": [
      "(253680, 22)\n"
     ]
    }
   ],
   "source": [
    "print(df.shape)"
   ]
  },
  {
   "cell_type": "code",
   "execution_count": 10,
   "metadata": {},
   "outputs": [],
   "source": [
    "#Create a dataframe pivot table where \"BMI\" is your column, \"Age\" is your index, and \"Gender\" is your value (this value is arbitrary)\n",
    "# use the len function as the \"aggfunc\" parameter.\n",
    "\n",
    "\n",
    "Nu_1_pivot_table = df.pivot_table(index='Age', columns='BMI', values='Sex', aggfunc=len, fill_value=0)\n"
   ]
  },
  {
   "cell_type": "code",
   "execution_count": 11,
   "metadata": {},
   "outputs": [
    {
     "name": "stdout",
     "output_type": "stream",
     "text": [
      "BMI   12.0  13.0  14.0  15.0  16.0  17.0  18.0  19.0  20.0  21.0  ...  86.0  \\\n",
      "Age                                                               ...         \n",
      "1.0      0     0     2     2    13    50   110   234   360   423  ...     0   \n",
      "2.0      0     1     1     2    12    38    87   187   300   446  ...     1   \n",
      "3.0      0     1     1     4    13    24    92   205   386   499  ...     0   \n",
      "4.0      0     2     2     5    12    26   106   240   397   612  ...     0   \n",
      "5.0      0     1     1     5    22    35    86   209   403   665  ...     0   \n",
      "6.0      1     2     3     7    12    50   101   272   469   740  ...     0   \n",
      "7.0      1     2     0    13    27    59   159   342   578   934  ...     0   \n",
      "8.0      0     1     5    13    32    87   201   400   685  1058  ...     0   \n",
      "9.0      2     3     2    13    41    89   187   456   702  1079  ...     0   \n",
      "10.0     0     4     4    16    47    94   199   426   614  1033  ...     0   \n",
      "11.0     1     3     5    14    37    65   142   326   466   808  ...     0   \n",
      "12.0     0     0     8    15    30    69   131   233   353   652  ...     0   \n",
      "13.0     1     1     7    23    50    90   202   438   614   906  ...     0   \n",
      "\n",
      "BMI   87.0  88.0  89.0  90.0  91.0  92.0  95.0  96.0  98.0  \n",
      "Age                                                         \n",
      "1.0      1     0     2     0     0     2     0     0     0  \n",
      "2.0      2     0     1     0     0     3     0     0     0  \n",
      "3.0      9     1     4     0     0     2     2     0     1  \n",
      "4.0      1     0     1     0     0     2     0     0     0  \n",
      "5.0      7     1     3     0     0     1     0     0     0  \n",
      "6.0      5     0     4     0     0     3     2     1     0  \n",
      "7.0      8     0     1     0     0     1     4     0     0  \n",
      "8.0      9     0     2     0     0     6     3     0     1  \n",
      "9.0     10     0     3     0     0     3     1     0     0  \n",
      "10.0     4     0     3     0     1     4     0     0     3  \n",
      "11.0     2     0     4     0     0     2     0     0     1  \n",
      "12.0     1     0     0     1     0     1     0     0     0  \n",
      "13.0     2     0     0     0     0     2     0     0     1  \n",
      "\n",
      "[13 rows x 84 columns]\n"
     ]
    }
   ],
   "source": [
    "#Display this pivot table\n",
    "\n",
    "print(Nu_1_pivot_table)\n"
   ]
  },
  {
   "cell_type": "code",
   "execution_count": 15,
   "metadata": {},
   "outputs": [
    {
     "ename": "KeyError",
     "evalue": "'BMI'",
     "output_type": "error",
     "traceback": [
      "\u001b[1;31m---------------------------------------------------------------------------\u001b[0m",
      "\u001b[1;31mKeyError\u001b[0m                                  Traceback (most recent call last)",
      "File \u001b[1;32mc:\\Users\\deema\\anaconda3\\Lib\\site-packages\\pandas\\core\\indexes\\base.py:3653\u001b[0m, in \u001b[0;36mIndex.get_loc\u001b[1;34m(self, key)\u001b[0m\n\u001b[0;32m   3652\u001b[0m \u001b[38;5;28;01mtry\u001b[39;00m:\n\u001b[1;32m-> 3653\u001b[0m     \u001b[38;5;28;01mreturn\u001b[39;00m \u001b[38;5;28mself\u001b[39m\u001b[38;5;241m.\u001b[39m_engine\u001b[38;5;241m.\u001b[39mget_loc(casted_key)\n\u001b[0;32m   3654\u001b[0m \u001b[38;5;28;01mexcept\u001b[39;00m \u001b[38;5;167;01mKeyError\u001b[39;00m \u001b[38;5;28;01mas\u001b[39;00m err:\n",
      "File \u001b[1;32mc:\\Users\\deema\\anaconda3\\Lib\\site-packages\\pandas\\_libs\\index.pyx:147\u001b[0m, in \u001b[0;36mpandas._libs.index.IndexEngine.get_loc\u001b[1;34m()\u001b[0m\n",
      "File \u001b[1;32mc:\\Users\\deema\\anaconda3\\Lib\\site-packages\\pandas\\_libs\\index.pyx:155\u001b[0m, in \u001b[0;36mpandas._libs.index.IndexEngine.get_loc\u001b[1;34m()\u001b[0m\n",
      "File \u001b[1;32mpandas\\_libs\\index_class_helper.pxi:19\u001b[0m, in \u001b[0;36mpandas._libs.index.Float64Engine._check_type\u001b[1;34m()\u001b[0m\n",
      "\u001b[1;31mKeyError\u001b[0m: 'BMI'",
      "\nThe above exception was the direct cause of the following exception:\n",
      "\u001b[1;31mKeyError\u001b[0m                                  Traceback (most recent call last)",
      "Cell \u001b[1;32mIn[15], line 3\u001b[0m\n\u001b[0;32m      1\u001b[0m \u001b[38;5;66;03m# Select the \"Age\" column from this pivot table and display the sort order ascending order\u001b[39;00m\n\u001b[1;32m----> 3\u001b[0m sorted_column \u001b[38;5;241m=\u001b[39m Nu_1_pivot_table[\u001b[38;5;124m'\u001b[39m\u001b[38;5;124mBMI\u001b[39m\u001b[38;5;124m'\u001b[39m]\u001b[38;5;241m.\u001b[39msort_values(ascending\u001b[38;5;241m=\u001b[39m\u001b[38;5;28;01mTrue\u001b[39;00m)\n\u001b[0;32m      5\u001b[0m \u001b[38;5;28mprint\u001b[39m(sorted_column)\n",
      "File \u001b[1;32mc:\\Users\\deema\\anaconda3\\Lib\\site-packages\\pandas\\core\\frame.py:3761\u001b[0m, in \u001b[0;36mDataFrame.__getitem__\u001b[1;34m(self, key)\u001b[0m\n\u001b[0;32m   3759\u001b[0m \u001b[38;5;28;01mif\u001b[39;00m \u001b[38;5;28mself\u001b[39m\u001b[38;5;241m.\u001b[39mcolumns\u001b[38;5;241m.\u001b[39mnlevels \u001b[38;5;241m>\u001b[39m \u001b[38;5;241m1\u001b[39m:\n\u001b[0;32m   3760\u001b[0m     \u001b[38;5;28;01mreturn\u001b[39;00m \u001b[38;5;28mself\u001b[39m\u001b[38;5;241m.\u001b[39m_getitem_multilevel(key)\n\u001b[1;32m-> 3761\u001b[0m indexer \u001b[38;5;241m=\u001b[39m \u001b[38;5;28mself\u001b[39m\u001b[38;5;241m.\u001b[39mcolumns\u001b[38;5;241m.\u001b[39mget_loc(key)\n\u001b[0;32m   3762\u001b[0m \u001b[38;5;28;01mif\u001b[39;00m is_integer(indexer):\n\u001b[0;32m   3763\u001b[0m     indexer \u001b[38;5;241m=\u001b[39m [indexer]\n",
      "File \u001b[1;32mc:\\Users\\deema\\anaconda3\\Lib\\site-packages\\pandas\\core\\indexes\\base.py:3655\u001b[0m, in \u001b[0;36mIndex.get_loc\u001b[1;34m(self, key)\u001b[0m\n\u001b[0;32m   3653\u001b[0m     \u001b[38;5;28;01mreturn\u001b[39;00m \u001b[38;5;28mself\u001b[39m\u001b[38;5;241m.\u001b[39m_engine\u001b[38;5;241m.\u001b[39mget_loc(casted_key)\n\u001b[0;32m   3654\u001b[0m \u001b[38;5;28;01mexcept\u001b[39;00m \u001b[38;5;167;01mKeyError\u001b[39;00m \u001b[38;5;28;01mas\u001b[39;00m err:\n\u001b[1;32m-> 3655\u001b[0m     \u001b[38;5;28;01mraise\u001b[39;00m \u001b[38;5;167;01mKeyError\u001b[39;00m(key) \u001b[38;5;28;01mfrom\u001b[39;00m \u001b[38;5;21;01merr\u001b[39;00m\n\u001b[0;32m   3656\u001b[0m \u001b[38;5;28;01mexcept\u001b[39;00m \u001b[38;5;167;01mTypeError\u001b[39;00m:\n\u001b[0;32m   3657\u001b[0m     \u001b[38;5;66;03m# If we have a listlike key, _check_indexing_error will raise\u001b[39;00m\n\u001b[0;32m   3658\u001b[0m     \u001b[38;5;66;03m#  InvalidIndexError. Otherwise we fall through and re-raise\u001b[39;00m\n\u001b[0;32m   3659\u001b[0m     \u001b[38;5;66;03m#  the TypeError.\u001b[39;00m\n\u001b[0;32m   3660\u001b[0m     \u001b[38;5;28mself\u001b[39m\u001b[38;5;241m.\u001b[39m_check_indexing_error(key)\n",
      "\u001b[1;31mKeyError\u001b[0m: 'BMI'"
     ]
    }
   ],
   "source": [
    "# Select the \"Age\" column from this pivot table and display the sort order ascending order\n",
    "\n",
    "sorted_column = Nu_1_pivot_table['BMI'].sort_values(ascending=True)\n",
    "\n",
    "print(sorted_column)"
   ]
  },
  {
   "cell_type": "code",
   "execution_count": null,
   "metadata": {},
   "outputs": [],
   "source": [
    "#Using the \"idmax\" method, get the index with the maximum value for each column\n",
    "\n",
    "Nu_1_pivot_table.idxmax()\n",
    "\n"
   ]
  },
  {
   "cell_type": "code",
   "execution_count": 17,
   "metadata": {},
   "outputs": [
    {
     "name": "stdout",
     "output_type": "stream",
     "text": [
      "T-statistic: nan\n",
      "P-value: nan\n"
     ]
    },
    {
     "name": "stderr",
     "output_type": "stream",
     "text": [
      "c:\\Users\\deema\\anaconda3\\envs\\phase1\\lib\\site-packages\\scipy\\stats\\_stats_py.py:7030: RuntimeWarning: invalid value encountered in scalar divide\n",
      "  svar = ((n1 - 1) * v1 + (n2 - 1) * v2) / df\n"
     ]
    }
   ],
   "source": [
    "# Can a ttest be used here?\n",
    "\n",
    "# TODO: Using the \"ttest_ind\" method from \"scipy.stats\"\n",
    "# Documentation: https://docs.scipy.org/doc/scipy/reference/generated/scipy.stats.ttest_ind.html\n",
    "\n",
    "#ttest for 1.) Gender: Women and 2.) Gender: Men\n",
    "\n",
    "# Assuming this is your data\n",
    "#Gender_Women = [?] \n",
    "#Gender_Men = [?] \n",
    "\n",
    "import scipy\n",
    "from scipy im                   5                                                                                                                                                                                                                                                                                                                                                                                                                                                                                           port stats\n",
    "\n",
    "# Assuming the following lists contain the total age in each \n",
    "\n",
    "Gender_Women = [?] \n",
    "Gender_Men = [?] \n",
    "\n",
    "#Perform Test\n",
    "t_statistic, p_value = stats.ttest_ind(Gender_Women, Gender_Men)\n",
    "\n",
    "print(f'T-statistic: {t_statistic}')\n",
    "print(f'P-value: {p_value}')"
   ]
  },
  {
   "cell_type": "markdown",
   "metadata": {},
   "source": [
    "## Data Analysis II\n",
    "\n",
    "In the next section, answer the primary analytical questions in your own words."
   ]
  }
 ],
 "metadata": {
  "kernelspec": {
   "display_name": "phase1",
   "language": "python",
   "name": "python3"
  },
  "language_info": {
   "codemirror_mode": {
    "name": "ipython",
    "version": 3
   },
   "file_extension": ".py",
   "mimetype": "text/x-python",
   "name": "python",
   "nbconvert_exporter": "python",
   "pygments_lexer": "ipython3",
   "version": "3.11.5"
  }
 },
 "nbformat": 4,
 "nbformat_minor": 2
}
