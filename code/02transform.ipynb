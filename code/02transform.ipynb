{
 "cells": [
  {
   "cell_type": "markdown",
   "metadata": {},
   "source": [
    "# Data Transformation \n",
    "\n",
    "Next, we will begin transforming our dataset by dropping values. Our primary goal of this process is to:\n",
    "\n",
    "* drop rows with missing data\n",
    "* drop select columns with overwhelmingly missing data\n",
    "\n"
   ]
  },
  {
   "cell_type": "code",
   "execution_count": 4,
   "metadata": {},
   "outputs": [],
   "source": [
    "import pandas as pd\n",
    "import numpy as np"
   ]
  },
  {
   "cell_type": "code",
   "execution_count": 8,
   "metadata": {},
   "outputs": [],
   "source": [
    "# Load `data/raw/Diabetes/diabetes_data_upload.csv` as a pandas dataframe\n",
    "\n",
    "df = pd.read_csv('C:/Users/deema/Desktop/Weightloss-Drugs/Weightloss-Drugs-and-Their-Impact-on-Diabetes/data/raw/Diabetes/diabetes_012_health_indicators_BRFSS2015.csv')\n",
    "\n",
    "\n",
    "#Make a back up copy of the Original Data Frame\n",
    "dfbak_copy = df.copy()"
   ]
  },
  {
   "cell_type": "code",
   "execution_count": 9,
   "metadata": {},
   "outputs": [
    {
     "name": "stdout",
     "output_type": "stream",
     "text": [
      "(253680, 22)\n"
     ]
    }
   ],
   "source": [
    "#Print out the shape of this dataframe for better clarity\n",
    "\n",
    "print(df.shape)"
   ]
  },
  {
   "cell_type": "code",
   "execution_count": 10,
   "metadata": {},
   "outputs": [
    {
     "data": {
      "text/plain": [
       "Diabetes_012            0\n",
       "HighBP                  0\n",
       "HighChol                0\n",
       "CholCheck               0\n",
       "BMI                     0\n",
       "Smoker                  0\n",
       "Stroke                  0\n",
       "HeartDiseaseorAttack    0\n",
       "PhysActivity            0\n",
       "Fruits                  0\n",
       "Veggies                 0\n",
       "HvyAlcoholConsump       0\n",
       "AnyHealthcare           0\n",
       "NoDocbcCost             0\n",
       "GenHlth                 0\n",
       "MentHlth                0\n",
       "PhysHlth                0\n",
       "DiffWalk                0\n",
       "Sex                     0\n",
       "Age                     0\n",
       "Education               0\n",
       "Income                  0\n",
       "dtype: int64"
      ]
     },
     "execution_count": 10,
     "metadata": {},
     "output_type": "execute_result"
    }
   ],
   "source": [
    "#Display how many null values are in each column of this dataframe\n",
    "\n",
    "df.isna().sum()\n"
   ]
  },
  {
   "cell_type": "code",
   "execution_count": 7,
   "metadata": {},
   "outputs": [
    {
     "ename": "KeyError",
     "evalue": "\"['column_to_drop'] not found in axis\"",
     "output_type": "error",
     "traceback": [
      "\u001b[1;31m---------------------------------------------------------------------------\u001b[0m",
      "\u001b[1;31mKeyError\u001b[0m                                  Traceback (most recent call last)",
      "Cell \u001b[1;32mIn[7], line 4\u001b[0m\n\u001b[0;32m      1\u001b[0m \u001b[38;5;66;03m# Dropped and transformed the columns, drop the remaining rows that contain missing values\u001b[39;00m\n\u001b[1;32m----> 4\u001b[0m df\u001b[38;5;241m.\u001b[39mdrop(\u001b[38;5;124m'\u001b[39m\u001b[38;5;124mcolumn_to_drop\u001b[39m\u001b[38;5;124m'\u001b[39m, axis\u001b[38;5;241m=\u001b[39m\u001b[38;5;241m1\u001b[39m, inplace\u001b[38;5;241m=\u001b[39m\u001b[38;5;28;01mTrue\u001b[39;00m)\n\u001b[0;32m      6\u001b[0m \u001b[38;5;28mprint\u001b[39m(df)\n",
      "File \u001b[1;32mc:\\Users\\deema\\anaconda3\\Lib\\site-packages\\pandas\\core\\frame.py:5258\u001b[0m, in \u001b[0;36mDataFrame.drop\u001b[1;34m(self, labels, axis, index, columns, level, inplace, errors)\u001b[0m\n\u001b[0;32m   5110\u001b[0m \u001b[38;5;28;01mdef\u001b[39;00m \u001b[38;5;21mdrop\u001b[39m(\n\u001b[0;32m   5111\u001b[0m     \u001b[38;5;28mself\u001b[39m,\n\u001b[0;32m   5112\u001b[0m     labels: IndexLabel \u001b[38;5;241m=\u001b[39m \u001b[38;5;28;01mNone\u001b[39;00m,\n\u001b[1;32m   (...)\u001b[0m\n\u001b[0;32m   5119\u001b[0m     errors: IgnoreRaise \u001b[38;5;241m=\u001b[39m \u001b[38;5;124m\"\u001b[39m\u001b[38;5;124mraise\u001b[39m\u001b[38;5;124m\"\u001b[39m,\n\u001b[0;32m   5120\u001b[0m ) \u001b[38;5;241m-\u001b[39m\u001b[38;5;241m>\u001b[39m DataFrame \u001b[38;5;241m|\u001b[39m \u001b[38;5;28;01mNone\u001b[39;00m:\n\u001b[0;32m   5121\u001b[0m \u001b[38;5;250m    \u001b[39m\u001b[38;5;124;03m\"\"\"\u001b[39;00m\n\u001b[0;32m   5122\u001b[0m \u001b[38;5;124;03m    Drop specified labels from rows or columns.\u001b[39;00m\n\u001b[0;32m   5123\u001b[0m \n\u001b[1;32m   (...)\u001b[0m\n\u001b[0;32m   5256\u001b[0m \u001b[38;5;124;03m            weight  1.0     0.8\u001b[39;00m\n\u001b[0;32m   5257\u001b[0m \u001b[38;5;124;03m    \"\"\"\u001b[39;00m\n\u001b[1;32m-> 5258\u001b[0m     \u001b[38;5;28;01mreturn\u001b[39;00m \u001b[38;5;28msuper\u001b[39m()\u001b[38;5;241m.\u001b[39mdrop(\n\u001b[0;32m   5259\u001b[0m         labels\u001b[38;5;241m=\u001b[39mlabels,\n\u001b[0;32m   5260\u001b[0m         axis\u001b[38;5;241m=\u001b[39maxis,\n\u001b[0;32m   5261\u001b[0m         index\u001b[38;5;241m=\u001b[39mindex,\n\u001b[0;32m   5262\u001b[0m         columns\u001b[38;5;241m=\u001b[39mcolumns,\n\u001b[0;32m   5263\u001b[0m         level\u001b[38;5;241m=\u001b[39mlevel,\n\u001b[0;32m   5264\u001b[0m         inplace\u001b[38;5;241m=\u001b[39minplace,\n\u001b[0;32m   5265\u001b[0m         errors\u001b[38;5;241m=\u001b[39merrors,\n\u001b[0;32m   5266\u001b[0m     )\n",
      "File \u001b[1;32mc:\\Users\\deema\\anaconda3\\Lib\\site-packages\\pandas\\core\\generic.py:4549\u001b[0m, in \u001b[0;36mNDFrame.drop\u001b[1;34m(self, labels, axis, index, columns, level, inplace, errors)\u001b[0m\n\u001b[0;32m   4547\u001b[0m \u001b[38;5;28;01mfor\u001b[39;00m axis, labels \u001b[38;5;129;01min\u001b[39;00m axes\u001b[38;5;241m.\u001b[39mitems():\n\u001b[0;32m   4548\u001b[0m     \u001b[38;5;28;01mif\u001b[39;00m labels \u001b[38;5;129;01mis\u001b[39;00m \u001b[38;5;129;01mnot\u001b[39;00m \u001b[38;5;28;01mNone\u001b[39;00m:\n\u001b[1;32m-> 4549\u001b[0m         obj \u001b[38;5;241m=\u001b[39m obj\u001b[38;5;241m.\u001b[39m_drop_axis(labels, axis, level\u001b[38;5;241m=\u001b[39mlevel, errors\u001b[38;5;241m=\u001b[39merrors)\n\u001b[0;32m   4551\u001b[0m \u001b[38;5;28;01mif\u001b[39;00m inplace:\n\u001b[0;32m   4552\u001b[0m     \u001b[38;5;28mself\u001b[39m\u001b[38;5;241m.\u001b[39m_update_inplace(obj)\n",
      "File \u001b[1;32mc:\\Users\\deema\\anaconda3\\Lib\\site-packages\\pandas\\core\\generic.py:4591\u001b[0m, in \u001b[0;36mNDFrame._drop_axis\u001b[1;34m(self, labels, axis, level, errors, only_slice)\u001b[0m\n\u001b[0;32m   4589\u001b[0m         new_axis \u001b[38;5;241m=\u001b[39m axis\u001b[38;5;241m.\u001b[39mdrop(labels, level\u001b[38;5;241m=\u001b[39mlevel, errors\u001b[38;5;241m=\u001b[39merrors)\n\u001b[0;32m   4590\u001b[0m     \u001b[38;5;28;01melse\u001b[39;00m:\n\u001b[1;32m-> 4591\u001b[0m         new_axis \u001b[38;5;241m=\u001b[39m axis\u001b[38;5;241m.\u001b[39mdrop(labels, errors\u001b[38;5;241m=\u001b[39merrors)\n\u001b[0;32m   4592\u001b[0m     indexer \u001b[38;5;241m=\u001b[39m axis\u001b[38;5;241m.\u001b[39mget_indexer(new_axis)\n\u001b[0;32m   4594\u001b[0m \u001b[38;5;66;03m# Case for non-unique axis\u001b[39;00m\n\u001b[0;32m   4595\u001b[0m \u001b[38;5;28;01melse\u001b[39;00m:\n",
      "File \u001b[1;32mc:\\Users\\deema\\anaconda3\\Lib\\site-packages\\pandas\\core\\indexes\\base.py:6699\u001b[0m, in \u001b[0;36mIndex.drop\u001b[1;34m(self, labels, errors)\u001b[0m\n\u001b[0;32m   6697\u001b[0m \u001b[38;5;28;01mif\u001b[39;00m mask\u001b[38;5;241m.\u001b[39many():\n\u001b[0;32m   6698\u001b[0m     \u001b[38;5;28;01mif\u001b[39;00m errors \u001b[38;5;241m!=\u001b[39m \u001b[38;5;124m\"\u001b[39m\u001b[38;5;124mignore\u001b[39m\u001b[38;5;124m\"\u001b[39m:\n\u001b[1;32m-> 6699\u001b[0m         \u001b[38;5;28;01mraise\u001b[39;00m \u001b[38;5;167;01mKeyError\u001b[39;00m(\u001b[38;5;124mf\u001b[39m\u001b[38;5;124m\"\u001b[39m\u001b[38;5;132;01m{\u001b[39;00m\u001b[38;5;28mlist\u001b[39m(labels[mask])\u001b[38;5;132;01m}\u001b[39;00m\u001b[38;5;124m not found in axis\u001b[39m\u001b[38;5;124m\"\u001b[39m)\n\u001b[0;32m   6700\u001b[0m     indexer \u001b[38;5;241m=\u001b[39m indexer[\u001b[38;5;241m~\u001b[39mmask]\n\u001b[0;32m   6701\u001b[0m \u001b[38;5;28;01mreturn\u001b[39;00m \u001b[38;5;28mself\u001b[39m\u001b[38;5;241m.\u001b[39mdelete(indexer)\n",
      "\u001b[1;31mKeyError\u001b[0m: \"['column_to_drop'] not found in axis\""
     ]
    }
   ],
   "source": [
    "# Dropped and transformed the columns, drop the remaining rows that contain missing values\n",
    "\n",
    "\n",
    "df.drop('HighChol', axis=1, inplace=True)\n",
    "\n",
    "print(df)\n"
   ]
  },
  {
   "cell_type": "code",
   "execution_count": 10,
   "metadata": {},
   "outputs": [
    {
     "name": "stdout",
     "output_type": "stream",
     "text": [
      "Age                      0\n",
      "Gender                   0\n",
      "Item Purchased           0\n",
      "Purchase Amount (USD)    0\n",
      "Location                 0\n",
      "Size                     0\n",
      "Color                    0\n",
      "Season                   0\n",
      "Review Rating            0\n",
      "Shipping Type            0\n",
      "Promo Code Used          0\n",
      "Previous Purchases       0\n",
      "Payment Method           0\n",
      "dtype: int64\n"
     ]
    }
   ],
   "source": [
    "# TODO: display how many null values are in each column of this dataframe\n",
    "# validate that each column has no missing values\n",
    "\n",
    "print(new_df10.isna().sum())\n"
   ]
  },
  {
   "cell_type": "code",
   "execution_count": 11,
   "metadata": {},
   "outputs": [
    {
     "name": "stdout",
     "output_type": "stream",
     "text": [
      "       Age  Gender Item Purchased  Purchase Amount (USD)      Location Size  \\\n",
      "2     31.0    Male       Leggings              24.231704        Nevada    M   \n",
      "4     38.0    Male     Sunglasses              36.545487        Oregon    S   \n",
      "5     26.0    Male       Leggings              23.595139        Nevada   XL   \n",
      "6     43.0    Male          Dress              34.079015    California    M   \n",
      "7     29.0    Male         Shorts              23.796439     Minnesota    M   \n",
      "...    ...     ...            ...                    ...           ...  ...   \n",
      "3894  39.0    Male  Running Shoes              55.636680        Kansas    L   \n",
      "3895  43.0  Female     Sunglasses              61.610602      Colorado    S   \n",
      "3896  37.0    Male        Pajamas              44.600556        Alaska    S   \n",
      "3898  39.0    Male         Hoodie              45.343778      Illinois    S   \n",
      "3899  21.0  Female         Gloves              49.439181  North Dakota    M   \n",
      "\n",
      "             Color  Season Review Rating   Shipping Type Promo Code Used  \\\n",
      "2      Terra cotta  Winter           4.0        Standard              No   \n",
      "4        Aubergine  Summer       Missing        Standard              No   \n",
      "5            Brown  Winter       Missing        Standard              No   \n",
      "6      Terra cotta    Fall           5.0        Standard              No   \n",
      "7         Lavender  Summer           2.0         Express              No   \n",
      "...            ...     ...           ...             ...             ...   \n",
      "3894         White  Summer       Missing  2-Day Shipping             Yes   \n",
      "3895  Burnt orange    Fall       Missing  2-Day Shipping             Yes   \n",
      "3896     Aubergine  Winter           4.0  2-Day Shipping             Yes   \n",
      "3898     Brick red    Fall       Missing  2-Day Shipping             Yes   \n",
      "3899     Aubergine  Winter           4.0  2-Day Shipping             Yes   \n",
      "\n",
      "      Previous Purchases Payment Method  \n",
      "2                      0    Credit Card  \n",
      "4                      0    Credit Card  \n",
      "5                      3    Credit Card  \n",
      "6                      0    Credit Card  \n",
      "7                      0    Credit Card  \n",
      "...                  ...            ...  \n",
      "3894                  11          Venmo  \n",
      "3895                   7          Venmo  \n",
      "3896                  20          Venmo  \n",
      "3898                   3          Venmo  \n",
      "3899                   2          Venmo  \n",
      "\n",
      "[3158 rows x 13 columns]\n"
     ]
    }
   ],
   "source": [
    "# TODO: print out the shape of this dataframe and verify that the shape is \"(3158, 13)\"\n",
    "\n",
    "print(new_df10)"
   ]
  },
  {
   "cell_type": "code",
   "execution_count": 12,
   "metadata": {},
   "outputs": [
    {
     "name": "stdout",
     "output_type": "stream",
     "text": [
      "<bound method NDFrame.describe of        Age  Gender Item Purchased  Purchase Amount (USD)      Location Size  \\\n",
      "2     31.0    Male       Leggings              24.231704        Nevada    M   \n",
      "4     38.0    Male     Sunglasses              36.545487        Oregon    S   \n",
      "5     26.0    Male       Leggings              23.595139        Nevada   XL   \n",
      "6     43.0    Male          Dress              34.079015    California    M   \n",
      "7     29.0    Male         Shorts              23.796439     Minnesota    M   \n",
      "...    ...     ...            ...                    ...           ...  ...   \n",
      "3894  39.0    Male  Running Shoes              55.636680        Kansas    L   \n",
      "3895  43.0  Female     Sunglasses              61.610602      Colorado    S   \n",
      "3896  37.0    Male        Pajamas              44.600556        Alaska    S   \n",
      "3898  39.0    Male         Hoodie              45.343778      Illinois    S   \n",
      "3899  21.0  Female         Gloves              49.439181  North Dakota    M   \n",
      "\n",
      "             Color  Season Review Rating   Shipping Type Promo Code Used  \\\n",
      "2      Terra cotta  Winter           4.0        Standard              No   \n",
      "4        Aubergine  Summer       Missing        Standard              No   \n",
      "5            Brown  Winter       Missing        Standard              No   \n",
      "6      Terra cotta    Fall           5.0        Standard              No   \n",
      "7         Lavender  Summer           2.0         Express              No   \n",
      "...            ...     ...           ...             ...             ...   \n",
      "3894         White  Summer       Missing  2-Day Shipping             Yes   \n",
      "3895  Burnt orange    Fall       Missing  2-Day Shipping             Yes   \n",
      "3896     Aubergine  Winter           4.0  2-Day Shipping             Yes   \n",
      "3898     Brick red    Fall       Missing  2-Day Shipping             Yes   \n",
      "3899     Aubergine  Winter           4.0  2-Day Shipping             Yes   \n",
      "\n",
      "      Previous Purchases Payment Method  \n",
      "2                      0    Credit Card  \n",
      "4                      0    Credit Card  \n",
      "5                      3    Credit Card  \n",
      "6                      0    Credit Card  \n",
      "7                      0    Credit Card  \n",
      "...                  ...            ...  \n",
      "3894                  11          Venmo  \n",
      "3895                   7          Venmo  \n",
      "3896                  20          Venmo  \n",
      "3898                   3          Venmo  \n",
      "3899                   2          Venmo  \n",
      "\n",
      "[3158 rows x 13 columns]>\n"
     ]
    }
   ],
   "source": [
    "# TODO: print out the first 5 rows of this dataframe for validation\n",
    "\n",
    "print(new_df10.describe)\n"
   ]
  },
  {
   "cell_type": "code",
   "execution_count": 13,
   "metadata": {},
   "outputs": [],
   "source": [
    "# TODO: write this newly transformed dataset to the `data/processed` folder. Name it \"shopping_cleaned.csv\" \n",
    "# Be sure to not include an additional index when writing this csv file\n",
    "# Documentation: https://pandas.pydata.org/docs/reference/api/pandas.DataFrame.to_csv.html\n",
    "\n",
    "#Need to check the Newly Created Data set  of <new_df_SampleSz> NEW NAME\" \"Shopping_Cleaned.CSV\"\n",
    "\n",
    "new_df10.to_csv('shopping_cleaned.csv', index=False)"
   ]
  },
  {
   "cell_type": "code",
   "execution_count": null,
   "metadata": {},
   "outputs": [],
   "source": [
    "#This is EXTRA\n",
    "#Setting up MSExcel to open\n",
    "%pip install openpyxl\n"
   ]
  },
  {
   "cell_type": "code",
   "execution_count": null,
   "metadata": {},
   "outputs": [],
   "source": [
    "# This is Extra... I was just trying to see the differences of some previous df that I created\n",
    "import pandas as pd\n",
    "# Load the two .csv files\n",
    "df1 = pd.read_csv('C:/Users/deema/Desktop/Lab4/shopping-behavior/data/raw/shopping.csv')\n",
    "df2 = pd.read_csv('C:/Users/deema/Desktop/Lab4/shopping-behavior/data/processed/shopping_cleaned.csv')\n",
    "\n",
    "# Ensure that the data is sorted in the same way\n",
    "df1 = df1.sort_values(by=list(df1.columns)).reset_index(drop=True)\n",
    "df2 = df2.sort_values(by=list(df2.columns)).reset_index(drop=True)\n",
    "\n",
    "# Compare the two dataframes and get a third dataframe with True/False values\n",
    "df_diff = df1.eq(df2)\n",
    "\n",
    "# Print out the differences\n",
    "print(df_diff)"
   ]
  }
 ],
 "metadata": {
  "kernelspec": {
   "display_name": "Python 3",
   "language": "python",
   "name": "python3"
  },
  "language_info": {
   "codemirror_mode": {
    "name": "ipython",
    "version": 3
   },
   "file_extension": ".py",
   "mimetype": "text/x-python",
   "name": "python",
   "nbconvert_exporter": "python",
   "pygments_lexer": "ipython3",
   "version": "3.11.5"
  }
 },
 "nbformat": 4,
 "nbformat_minor": 2
}
