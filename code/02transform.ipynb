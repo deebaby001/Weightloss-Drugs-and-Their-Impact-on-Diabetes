{
 "cells": [
  {
   "cell_type": "markdown",
   "metadata": {},
   "source": [
    "# Data Transformation \n",
    "\n",
    "Next, we will begin transforming our dataset by dropping values. Our primary goal of this process is to:\n",
    "\n",
    "* drop rows with missing data\n",
    "* drop select columns with overwhelmingly missing data\n",
    "\n"
   ]
  },
  {
   "cell_type": "code",
   "execution_count": 1,
   "metadata": {},
   "outputs": [],
   "source": [
    "import pandas as pd\n",
    "import numpy as np"
   ]
  },
  {
   "cell_type": "code",
   "execution_count": 6,
   "metadata": {},
   "outputs": [],
   "source": [
    "# Load `data/raw/Diabetes/diabetes_data_upload.csv` as a pandas dataframe\n",
    "\n",
    "df = pd.read_csv('C:/Users/deema/Desktop/Weightloss-Drugs/Weightloss-Drugs-and-Their-Impact-on-Diabetes/data/raw/Diabetes/diabetes_012_health_indicators_BRFSS2015.csv')\n",
    "\n",
    "\n",
    "#Make a back up copy of the Original Data Frame\n",
    "dfbak_copy = df.copy()"
   ]
  },
  {
   "cell_type": "code",
   "execution_count": 7,
   "metadata": {},
   "outputs": [
    {
     "name": "stdout",
     "output_type": "stream",
     "text": [
      "(253680, 22)\n"
     ]
    }
   ],
   "source": [
    "#Print out the shape of this dataframe for better clarity\n",
    "\n",
    "print(df.shape)"
   ]
  },
  {
   "cell_type": "code",
   "execution_count": 10,
   "metadata": {},
   "outputs": [
    {
     "data": {
      "text/plain": [
       "Diabetes_012            0\n",
       "HighBP                  0\n",
       "HighChol                0\n",
       "CholCheck               0\n",
       "BMI                     0\n",
       "Smoker                  0\n",
       "Stroke                  0\n",
       "HeartDiseaseorAttack    0\n",
       "PhysActivity            0\n",
       "Fruits                  0\n",
       "Veggies                 0\n",
       "HvyAlcoholConsump       0\n",
       "AnyHealthcare           0\n",
       "NoDocbcCost             0\n",
       "GenHlth                 0\n",
       "MentHlth                0\n",
       "PhysHlth                0\n",
       "DiffWalk                0\n",
       "Sex                     0\n",
       "Age                     0\n",
       "Education               0\n",
       "Income                  0\n",
       "dtype: int64"
      ]
     },
     "execution_count": 10,
     "metadata": {},
     "output_type": "execute_result"
    }
   ],
   "source": [
    "#Display how many null values are in each column of this dataframe\n",
    "\n",
    "df.isna().sum()\n"
   ]
  },
  {
   "cell_type": "code",
   "execution_count": 8,
   "metadata": {},
   "outputs": [
    {
     "name": "stdout",
     "output_type": "stream",
     "text": [
      "        Diabetes_012  HighBP  HighChol   BMI  Smoker  Stroke  \\\n",
      "0                0.0     1.0       1.0  40.0     1.0     0.0   \n",
      "1                0.0     0.0       0.0  25.0     1.0     0.0   \n",
      "2                0.0     1.0       1.0  28.0     0.0     0.0   \n",
      "3                0.0     1.0       0.0  27.0     0.0     0.0   \n",
      "4                0.0     1.0       1.0  24.0     0.0     0.0   \n",
      "...              ...     ...       ...   ...     ...     ...   \n",
      "253675           0.0     1.0       1.0  45.0     0.0     0.0   \n",
      "253676           2.0     1.0       1.0  18.0     0.0     0.0   \n",
      "253677           0.0     0.0       0.0  28.0     0.0     0.0   \n",
      "253678           0.0     1.0       0.0  23.0     0.0     0.0   \n",
      "253679           2.0     1.0       1.0  25.0     0.0     0.0   \n",
      "\n",
      "        HeartDiseaseorAttack  PhysActivity  Fruits  Veggies  \\\n",
      "0                        0.0           0.0     0.0      1.0   \n",
      "1                        0.0           1.0     0.0      0.0   \n",
      "2                        0.0           0.0     1.0      0.0   \n",
      "3                        0.0           1.0     1.0      1.0   \n",
      "4                        0.0           1.0     1.0      1.0   \n",
      "...                      ...           ...     ...      ...   \n",
      "253675                   0.0           0.0     1.0      1.0   \n",
      "253676                   0.0           0.0     0.0      0.0   \n",
      "253677                   0.0           1.0     1.0      0.0   \n",
      "253678                   0.0           0.0     1.0      1.0   \n",
      "253679                   1.0           1.0     1.0      0.0   \n",
      "\n",
      "        HvyAlcoholConsump  AnyHealthcare  MentHlth  PhysHlth  DiffWalk  Sex  \\\n",
      "0                     0.0            1.0      18.0      15.0       1.0  0.0   \n",
      "1                     0.0            0.0       0.0       0.0       0.0  0.0   \n",
      "2                     0.0            1.0      30.0      30.0       1.0  0.0   \n",
      "3                     0.0            1.0       0.0       0.0       0.0  0.0   \n",
      "4                     0.0            1.0       3.0       0.0       0.0  0.0   \n",
      "...                   ...            ...       ...       ...       ...  ...   \n",
      "253675                0.0            1.0       0.0       5.0       0.0  1.0   \n",
      "253676                0.0            1.0       0.0       0.0       1.0  0.0   \n",
      "253677                0.0            1.0       0.0       0.0       0.0  0.0   \n",
      "253678                0.0            1.0       0.0       0.0       0.0  1.0   \n",
      "253679                0.0            1.0       0.0       0.0       0.0  0.0   \n",
      "\n",
      "         Age  Education  Income  \n",
      "0        9.0        4.0     3.0  \n",
      "1        7.0        6.0     1.0  \n",
      "2        9.0        4.0     8.0  \n",
      "3       11.0        3.0     6.0  \n",
      "4       11.0        5.0     4.0  \n",
      "...      ...        ...     ...  \n",
      "253675   5.0        6.0     7.0  \n",
      "253676  11.0        2.0     4.0  \n",
      "253677   2.0        5.0     2.0  \n",
      "253678   7.0        5.0     1.0  \n",
      "253679   9.0        6.0     2.0  \n",
      "\n",
      "[253680 rows x 19 columns]\n"
     ]
    }
   ],
   "source": [
    "# Dropped and transformed the columns, drop the remaining rows that contain missing values\n",
    "\n",
    "\n",
    "#df.drop('CholCheck', axis=1, inplace=True)\n",
    "\n",
    "# Specify the columns you want to drop\n",
    "columns_to_drop = ['CholCheck', 'GenHlth', 'NoDocbcCost']\n",
    "\n",
    "# Drop the columns\n",
    "df_dropped = df.drop(columns=columns_to_drop)\n",
    "\n",
    "print(df_dropped)\n",
    "\n"
   ]
  },
  {
   "cell_type": "code",
   "execution_count": 10,
   "metadata": {},
   "outputs": [
    {
     "name": "stdout",
     "output_type": "stream",
     "text": [
      "Diabetes_012            0\n",
      "HighBP                  0\n",
      "HighChol                0\n",
      "BMI                     0\n",
      "Smoker                  0\n",
      "Stroke                  0\n",
      "HeartDiseaseorAttack    0\n",
      "PhysActivity            0\n",
      "Fruits                  0\n",
      "Veggies                 0\n",
      "HvyAlcoholConsump       0\n",
      "AnyHealthcare           0\n",
      "MentHlth                0\n",
      "PhysHlth                0\n",
      "DiffWalk                0\n",
      "Sex                     0\n",
      "Age                     0\n",
      "Education               0\n",
      "Income                  0\n",
      "dtype: int64\n"
     ]
    }
   ],
   "source": [
    "# TODO: display how many null values are in each column of this dataframe\n",
    "# validate that each column has no missing values\n",
    "\n",
    "print(df_dropped.isna().sum())\n"
   ]
  },
  {
   "cell_type": "code",
   "execution_count": 13,
   "metadata": {},
   "outputs": [],
   "source": [
    "#Write this newly transformed dataset to the `data/processed` folder. Name it \"shopping_cleaned.csv\" \n",
    "\n",
    "df_dropped.to_csv('diabetes_cleaned.csv', index=False)"
   ]
  }
 ],
 "metadata": {
  "kernelspec": {
   "display_name": "Python 3",
   "language": "python",
   "name": "python3"
  },
  "language_info": {
   "codemirror_mode": {
    "name": "ipython",
    "version": 3
   },
   "file_extension": ".py",
   "mimetype": "text/x-python",
   "name": "python",
   "nbconvert_exporter": "python",
   "pygments_lexer": "ipython3",
   "version": "3.11.5"
  }
 },
 "nbformat": 4,
 "nbformat_minor": 2
}
