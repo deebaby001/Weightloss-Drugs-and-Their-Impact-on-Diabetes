{
 "cells": [
  {
   "cell_type": "markdown",
   "metadata": {},
   "source": [
    "# Data Transformation I\n",
    "\n",
    "Next, we will begin transforming our dataset by dropping values. Our primary goal of this process is to:\n",
    "\n",
    "* drop rows with missing data\n",
    "* drop select columns with overwhelmingly missing data\n",
    "\n",
    "Utilize the documentation provided in each code-block. When you are done with this section of the project, validate that your output matches the screenshot provided in the `docs/part2.md` file."
   ]
  },
  {
   "cell_type": "code",
   "execution_count": 1,
   "metadata": {},
   "outputs": [],
   "source": [
    "import pandas as pd\n",
    "import numpy as np"
   ]
  },
  {
   "cell_type": "code",
   "execution_count": 2,
   "metadata": {},
   "outputs": [],
   "source": [
    "# Load `data/raw/Diabetes/diabetes_data_upload.csv` as a pandas dataframe\n",
    "\n",
    "df = pd.read_csv('C:/Users/deema/Desktop/Weightloss-Drugs/Weightloss-Drugs-and-Their-Impact-on-Diabetes/data/raw/Diabetes/diabetes_data_upload.csv')\n",
    "\n",
    "\n",
    "\n",
    "#Make a back up copy of the Original Data Frame\n",
    "dfbak_copy = df.copy()"
   ]
  },
  {
   "cell_type": "code",
   "execution_count": 3,
   "metadata": {},
   "outputs": [
    {
     "name": "stdout",
     "output_type": "stream",
     "text": [
      "(520, 17)\n"
     ]
    }
   ],
   "source": [
    "#Print out the shape of this dataframe for better clarity\n",
    "\n",
    "print(df.shape)"
   ]
  },
  {
   "cell_type": "code",
   "execution_count": 4,
   "metadata": {},
   "outputs": [
    {
     "data": {
      "text/plain": [
       "Age                   0\n",
       "Gender                0\n",
       "Polyuria              0\n",
       "Polydipsia            0\n",
       "sudden weight loss    0\n",
       "weakness              0\n",
       "Polyphagia            0\n",
       "Genital thrush        0\n",
       "visual blurring       0\n",
       "Itching               0\n",
       "Irritability          0\n",
       "delayed healing       0\n",
       "partial paresis       0\n",
       "muscle stiffness      0\n",
       "Alopecia              0\n",
       "Obesity               0\n",
       "class                 0\n",
       "dtype: int64"
      ]
     },
     "execution_count": 4,
     "metadata": {},
     "output_type": "execute_result"
    }
   ],
   "source": [
    "#Display how many null values are in each column of this dataframe\n",
    "\n",
    "df.isna().sum()\n"
   ]
  },
  {
   "cell_type": "code",
   "execution_count": 7,
   "metadata": {},
   "outputs": [],
   "source": [
    "# TODO: while \"Review Rating\" is also mostly empty, we are interested in figuring out why some users\n",
    "# leave reviews and others don't. \n",
    "\n",
    "# Therefore we will NOT drop this column. Instead, let's reassign \n",
    "# all missing values in \"Review Rating\" with \"Missing\", and all non-na values as \"Present\"\n",
    "# Documentation: https://pandas.pydata.org/docs/reference/api/pandas.DataFrame.replace.html\n",
    "\n",
    "#Reassign all Missing Values to \"Missing\" and \n",
    "#all NAN values as \"Present\"\n",
    "\n",
    "#{% load dropped_df['Review Rating'] = dropped_df['Review Rating'] .\\\n",
    "#where(dropped_df['Review Rating']).isna(), (\"Present\") .\\\n",
    "#where(dropped_df['Review Rating']).isna(), (\"Missing\") .\\_tags %}\n",
    "    \n",
    "#dropped_df['Review Rating'] = dropped_df['Review Rating'].where(dropped_df['Review Rating'].notna(), \"Present\")\n",
    "#dropped_df['Review Rating'] = dropped_df['Review Rating'].where(dropped_df['Review Rating'] != \"Present\", \"Missing\")\n",
    "\n",
    "import numpy as np\n",
    "\n",
    "new_df10['Review Rating'] = np.where(new_df10['Review Rating'].notna(), new_df10['Review Rating'], \"Present\")\n",
    "new_df10['Review Rating'] = np.where(new_df10['Review Rating'] != \"Present\", new_df10['Review Rating'], \"Missing\")"
   ]
  },
  {
   "cell_type": "code",
   "execution_count": 9,
   "metadata": {},
   "outputs": [
    {
     "name": "stdout",
     "output_type": "stream",
     "text": [
      "       Age  Gender Item Purchased  Purchase Amount (USD)      Location Size  \\\n",
      "2     31.0    Male       Leggings              24.231704        Nevada    M   \n",
      "4     38.0    Male     Sunglasses              36.545487        Oregon    S   \n",
      "5     26.0    Male       Leggings              23.595139        Nevada   XL   \n",
      "6     43.0    Male          Dress              34.079015    California    M   \n",
      "7     29.0    Male         Shorts              23.796439     Minnesota    M   \n",
      "...    ...     ...            ...                    ...           ...  ...   \n",
      "3894  39.0    Male  Running Shoes              55.636680        Kansas    L   \n",
      "3895  43.0  Female     Sunglasses              61.610602      Colorado    S   \n",
      "3896  37.0    Male        Pajamas              44.600556        Alaska    S   \n",
      "3898  39.0    Male         Hoodie              45.343778      Illinois    S   \n",
      "3899  21.0  Female         Gloves              49.439181  North Dakota    M   \n",
      "\n",
      "             Color  Season Review Rating   Shipping Type Promo Code Used  \\\n",
      "2      Terra cotta  Winter           4.0        Standard              No   \n",
      "4        Aubergine  Summer       Missing        Standard              No   \n",
      "5            Brown  Winter       Missing        Standard              No   \n",
      "6      Terra cotta    Fall           5.0        Standard              No   \n",
      "7         Lavender  Summer           2.0         Express              No   \n",
      "...            ...     ...           ...             ...             ...   \n",
      "3894         White  Summer       Missing  2-Day Shipping             Yes   \n",
      "3895  Burnt orange    Fall       Missing  2-Day Shipping             Yes   \n",
      "3896     Aubergine  Winter           4.0  2-Day Shipping             Yes   \n",
      "3898     Brick red    Fall       Missing  2-Day Shipping             Yes   \n",
      "3899     Aubergine  Winter           4.0  2-Day Shipping             Yes   \n",
      "\n",
      "      Previous Purchases Payment Method  \n",
      "2                      0    Credit Card  \n",
      "4                      0    Credit Card  \n",
      "5                      3    Credit Card  \n",
      "6                      0    Credit Card  \n",
      "7                      0    Credit Card  \n",
      "...                  ...            ...  \n",
      "3894                  11          Venmo  \n",
      "3895                   7          Venmo  \n",
      "3896                  20          Venmo  \n",
      "3898                   3          Venmo  \n",
      "3899                   2          Venmo  \n",
      "\n",
      "[3158 rows x 13 columns]\n"
     ]
    }
   ],
   "source": [
    "# TODO: Now that we've dropped and transformed our columns, drop the remaining rows that contain missing values\n",
    "# Documentation: https://pandas.pydata.org/docs/reference/api/pandas.DataFrame.dropna.html\n",
    "#Find null values. Found that \"Location is the only other column\n",
    "\n",
    "new_df10.dropna(inplace=True)\n",
    "print(new_df10)\n"
   ]
  },
  {
   "cell_type": "code",
   "execution_count": 10,
   "metadata": {},
   "outputs": [
    {
     "name": "stdout",
     "output_type": "stream",
     "text": [
      "Age                      0\n",
      "Gender                   0\n",
      "Item Purchased           0\n",
      "Purchase Amount (USD)    0\n",
      "Location                 0\n",
      "Size                     0\n",
      "Color                    0\n",
      "Season                   0\n",
      "Review Rating            0\n",
      "Shipping Type            0\n",
      "Promo Code Used          0\n",
      "Previous Purchases       0\n",
      "Payment Method           0\n",
      "dtype: int64\n"
     ]
    }
   ],
   "source": [
    "# TODO: display how many null values are in each column of this dataframe\n",
    "# validate that each column has no missing values\n",
    "\n",
    "print(new_df10.isna().sum())\n"
   ]
  },
  {
   "cell_type": "code",
   "execution_count": 11,
   "metadata": {},
   "outputs": [
    {
     "name": "stdout",
     "output_type": "stream",
     "text": [
      "       Age  Gender Item Purchased  Purchase Amount (USD)      Location Size  \\\n",
      "2     31.0    Male       Leggings              24.231704        Nevada    M   \n",
      "4     38.0    Male     Sunglasses              36.545487        Oregon    S   \n",
      "5     26.0    Male       Leggings              23.595139        Nevada   XL   \n",
      "6     43.0    Male          Dress              34.079015    California    M   \n",
      "7     29.0    Male         Shorts              23.796439     Minnesota    M   \n",
      "...    ...     ...            ...                    ...           ...  ...   \n",
      "3894  39.0    Male  Running Shoes              55.636680        Kansas    L   \n",
      "3895  43.0  Female     Sunglasses              61.610602      Colorado    S   \n",
      "3896  37.0    Male        Pajamas              44.600556        Alaska    S   \n",
      "3898  39.0    Male         Hoodie              45.343778      Illinois    S   \n",
      "3899  21.0  Female         Gloves              49.439181  North Dakota    M   \n",
      "\n",
      "             Color  Season Review Rating   Shipping Type Promo Code Used  \\\n",
      "2      Terra cotta  Winter           4.0        Standard              No   \n",
      "4        Aubergine  Summer       Missing        Standard              No   \n",
      "5            Brown  Winter       Missing        Standard              No   \n",
      "6      Terra cotta    Fall           5.0        Standard              No   \n",
      "7         Lavender  Summer           2.0         Express              No   \n",
      "...            ...     ...           ...             ...             ...   \n",
      "3894         White  Summer       Missing  2-Day Shipping             Yes   \n",
      "3895  Burnt orange    Fall       Missing  2-Day Shipping             Yes   \n",
      "3896     Aubergine  Winter           4.0  2-Day Shipping             Yes   \n",
      "3898     Brick red    Fall       Missing  2-Day Shipping             Yes   \n",
      "3899     Aubergine  Winter           4.0  2-Day Shipping             Yes   \n",
      "\n",
      "      Previous Purchases Payment Method  \n",
      "2                      0    Credit Card  \n",
      "4                      0    Credit Card  \n",
      "5                      3    Credit Card  \n",
      "6                      0    Credit Card  \n",
      "7                      0    Credit Card  \n",
      "...                  ...            ...  \n",
      "3894                  11          Venmo  \n",
      "3895                   7          Venmo  \n",
      "3896                  20          Venmo  \n",
      "3898                   3          Venmo  \n",
      "3899                   2          Venmo  \n",
      "\n",
      "[3158 rows x 13 columns]\n"
     ]
    }
   ],
   "source": [
    "# TODO: print out the shape of this dataframe and verify that the shape is \"(3158, 13)\"\n",
    "\n",
    "print(new_df10)"
   ]
  },
  {
   "cell_type": "code",
   "execution_count": 12,
   "metadata": {},
   "outputs": [
    {
     "name": "stdout",
     "output_type": "stream",
     "text": [
      "<bound method NDFrame.describe of        Age  Gender Item Purchased  Purchase Amount (USD)      Location Size  \\\n",
      "2     31.0    Male       Leggings              24.231704        Nevada    M   \n",
      "4     38.0    Male     Sunglasses              36.545487        Oregon    S   \n",
      "5     26.0    Male       Leggings              23.595139        Nevada   XL   \n",
      "6     43.0    Male          Dress              34.079015    California    M   \n",
      "7     29.0    Male         Shorts              23.796439     Minnesota    M   \n",
      "...    ...     ...            ...                    ...           ...  ...   \n",
      "3894  39.0    Male  Running Shoes              55.636680        Kansas    L   \n",
      "3895  43.0  Female     Sunglasses              61.610602      Colorado    S   \n",
      "3896  37.0    Male        Pajamas              44.600556        Alaska    S   \n",
      "3898  39.0    Male         Hoodie              45.343778      Illinois    S   \n",
      "3899  21.0  Female         Gloves              49.439181  North Dakota    M   \n",
      "\n",
      "             Color  Season Review Rating   Shipping Type Promo Code Used  \\\n",
      "2      Terra cotta  Winter           4.0        Standard              No   \n",
      "4        Aubergine  Summer       Missing        Standard              No   \n",
      "5            Brown  Winter       Missing        Standard              No   \n",
      "6      Terra cotta    Fall           5.0        Standard              No   \n",
      "7         Lavender  Summer           2.0         Express              No   \n",
      "...            ...     ...           ...             ...             ...   \n",
      "3894         White  Summer       Missing  2-Day Shipping             Yes   \n",
      "3895  Burnt orange    Fall       Missing  2-Day Shipping             Yes   \n",
      "3896     Aubergine  Winter           4.0  2-Day Shipping             Yes   \n",
      "3898     Brick red    Fall       Missing  2-Day Shipping             Yes   \n",
      "3899     Aubergine  Winter           4.0  2-Day Shipping             Yes   \n",
      "\n",
      "      Previous Purchases Payment Method  \n",
      "2                      0    Credit Card  \n",
      "4                      0    Credit Card  \n",
      "5                      3    Credit Card  \n",
      "6                      0    Credit Card  \n",
      "7                      0    Credit Card  \n",
      "...                  ...            ...  \n",
      "3894                  11          Venmo  \n",
      "3895                   7          Venmo  \n",
      "3896                  20          Venmo  \n",
      "3898                   3          Venmo  \n",
      "3899                   2          Venmo  \n",
      "\n",
      "[3158 rows x 13 columns]>\n"
     ]
    }
   ],
   "source": [
    "# TODO: print out the first 5 rows of this dataframe for validation\n",
    "\n",
    "print(new_df10.describe)\n"
   ]
  },
  {
   "cell_type": "code",
   "execution_count": 13,
   "metadata": {},
   "outputs": [],
   "source": [
    "# TODO: write this newly transformed dataset to the `data/processed` folder. Name it \"shopping_cleaned.csv\" \n",
    "# Be sure to not include an additional index when writing this csv file\n",
    "# Documentation: https://pandas.pydata.org/docs/reference/api/pandas.DataFrame.to_csv.html\n",
    "\n",
    "#Need to check the Newly Created Data set  of <new_df_SampleSz> NEW NAME\" \"Shopping_Cleaned.CSV\"\n",
    "\n",
    "new_df10.to_csv('shopping_cleaned.csv', index=False)"
   ]
  },
  {
   "cell_type": "code",
   "execution_count": null,
   "metadata": {},
   "outputs": [],
   "source": [
    "#This is EXTRA\n",
    "#Setting up MSExcel to open\n",
    "%pip install openpyxl\n"
   ]
  },
  {
   "cell_type": "code",
   "execution_count": null,
   "metadata": {},
   "outputs": [],
   "source": [
    "# This is Extra... I was just trying to see the differences of some previous df that I created\n",
    "import pandas as pd\n",
    "# Load the two .csv files\n",
    "df1 = pd.read_csv('C:/Users/deema/Desktop/Lab4/shopping-behavior/data/raw/shopping.csv')\n",
    "df2 = pd.read_csv('C:/Users/deema/Desktop/Lab4/shopping-behavior/data/processed/shopping_cleaned.csv')\n",
    "\n",
    "# Ensure that the data is sorted in the same way\n",
    "df1 = df1.sort_values(by=list(df1.columns)).reset_index(drop=True)\n",
    "df2 = df2.sort_values(by=list(df2.columns)).reset_index(drop=True)\n",
    "\n",
    "# Compare the two dataframes and get a third dataframe with True/False values\n",
    "df_diff = df1.eq(df2)\n",
    "\n",
    "# Print out the differences\n",
    "print(df_diff)"
   ]
  }
 ],
 "metadata": {
  "kernelspec": {
   "display_name": "Python 3",
   "language": "python",
   "name": "python3"
  },
  "language_info": {
   "codemirror_mode": {
    "name": "ipython",
    "version": 3
   },
   "file_extension": ".py",
   "mimetype": "text/x-python",
   "name": "python",
   "nbconvert_exporter": "python",
   "pygments_lexer": "ipython3",
   "version": "3.11.5"
  }
 },
 "nbformat": 4,
 "nbformat_minor": 2
}
